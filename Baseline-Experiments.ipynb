{
 "cells": [
  {
   "cell_type": "markdown",
   "metadata": {},
   "source": [
    "# Predicint MOOC Dropout\n",
    "## Baseline Experiments\n",
    "\n",
    "### Evaluate Some Traditional ML Algorithms"
   ]
  },
  {
   "cell_type": "markdown",
   "metadata": {},
   "source": [
    "<a href=\"https://colab.research.google.com/github/rambasnet/DeepLearningMaliciousURLs/blob/master/Baseline-Experiments.ipynb\" target=\"_parent\"><img src=\"https://colab.research.google.com/assets/colab-badge.svg\" alt=\"Open In Colab\"/></a>"
   ]
  },
  {
   "cell_type": "markdown",
   "metadata": {},
   "source": [
    "## Import libraries"
   ]
  },
  {
   "cell_type": "code",
   "execution_count": 1,
   "metadata": {},
   "outputs": [],
   "source": [
    "from fastai.tabular import *\n",
    "import pandas as pd\n",
    "import numpy as np\n",
    "from sklearn.model_selection import train_test_split, StratifiedShuffleSplit\n",
    "import os\n",
    "import sys\n",
    "import glob\n",
    "from sklearn.utils import shuffle\n",
    "from pandas.plotting import scatter_matrix\n",
    "import matplotlib.pyplot as plt\n",
    "from sklearn import model_selection\n",
    "from sklearn.metrics import classification_report\n",
    "from sklearn.metrics import confusion_matrix\n",
    "from sklearn.metrics import accuracy_score\n",
    "from sklearn.utils.multiclass import unique_labels\n",
    "\n",
    "# import ML Classifiers \n",
    "from sklearn.discriminant_analysis import LinearDiscriminantAnalysis\n",
    "from sklearn.ensemble import RandomForestClassifier \n",
    "from sklearn.ensemble import AdaBoostClassifier\n",
    "from sklearn.linear_model import LogisticRegression\n",
    "from sklearn.naive_bayes import GaussianNB\n",
    "from sklearn.neighbors import KNeighborsClassifier\n",
    "from sklearn.neighbors import KNeighborsRegressor\n",
    "from sklearn.neural_network import MLPClassifier\n",
    "from sklearn.neural_network import MLPRegressor\n",
    "from sklearn.svm import SVC\n",
    "from sklearn.tree import DecisionTreeClassifier\n",
    "from xgboost import XGBClassifier\n"
   ]
  },
  {
   "cell_type": "markdown",
   "metadata": {},
   "source": [
    "## Experiment on Xeutangx Dataset"
   ]
  },
  {
   "cell_type": "code",
   "execution_count": 2,
   "metadata": {},
   "outputs": [
    {
     "name": "stdout",
     "output_type": "stream",
     "text": [
      "all_normalized_features.csv           test_normalized_features.csv\r\n",
      "course_info.csv                       test_normalized_trimmed_features.csv\r\n",
      "features_statistics.csv               train_features.csv\r\n",
      "merged_normalized_all.csv             train_normalized_features.csv\r\n",
      "test_features.csv                     train_normalized_trimmed_features.csv\r\n"
     ]
    }
   ],
   "source": [
    "! ls data/xeutangx"
   ]
  },
  {
   "cell_type": "markdown",
   "metadata": {},
   "source": [
    "### note Notebook doesn't display all the rows and columns\n",
    "- let's fix that"
   ]
  },
  {
   "cell_type": "code",
   "execution_count": 3,
   "metadata": {},
   "outputs": [],
   "source": [
    "pd.options.display.max_columns = None\n",
    "pd.options.display.max_rows = None"
   ]
  },
  {
   "cell_type": "markdown",
   "metadata": {},
   "source": [
    "## Clean Data\n",
    "- drop enroll_id, username and course_id identifiers to avoid overfitting"
   ]
  },
  {
   "cell_type": "code",
   "execution_count": 4,
   "metadata": {},
   "outputs": [],
   "source": [
    "# Import the training data\n",
    "path = 'data/xeutangx'\n",
    "f_train = 'train_normalized_trimmed_features.csv'\n",
    "df_train = pd.read_csv(os.path.join(path, f_train))\n",
    "\n",
    "f_test = 'test_normalized_trimmed_features.csv'\n",
    "df_test = pd.read_csv(os.path.join(path, f_test))\n",
    "bad_features = ['enroll_id', 'username', 'course_id']\n",
    "df_train.drop(labels=bad_features, axis='columns', inplace=True)\n",
    "df_test.drop(labels=bad_features, axis='columns', inplace=True)\n",
    "df = pd.concat([df_train, df_test])\n",
    "dep_var = 'truth'\n",
    "X = df.loc[:, df.columns != dep_var]\n",
    "y = df[dep_var]"
   ]
  },
  {
   "cell_type": "code",
   "execution_count": 5,
   "metadata": {},
   "outputs": [
    {
     "data": {
      "text/html": [
       "<div>\n",
       "<style scoped>\n",
       "    .dataframe tbody tr th:only-of-type {\n",
       "        vertical-align: middle;\n",
       "    }\n",
       "\n",
       "    .dataframe tbody tr th {\n",
       "        vertical-align: top;\n",
       "    }\n",
       "\n",
       "    .dataframe thead th {\n",
       "        text-align: right;\n",
       "    }\n",
       "</style>\n",
       "<table border=\"1\" class=\"dataframe\">\n",
       "  <thead>\n",
       "    <tr style=\"text-align: right;\">\n",
       "      <th></th>\n",
       "      <th>action_count</th>\n",
       "      <th>session_count</th>\n",
       "      <th>seek_video_count</th>\n",
       "      <th>play_video_count</th>\n",
       "      <th>pause_video_count</th>\n",
       "      <th>stop_video_count</th>\n",
       "      <th>load_video_count</th>\n",
       "      <th>problem_get_count</th>\n",
       "      <th>problem_check_count</th>\n",
       "      <th>problem_save_count</th>\n",
       "      <th>reset_problem_count</th>\n",
       "      <th>problem_check_correct_count</th>\n",
       "      <th>problem_check_incorrect_count</th>\n",
       "      <th>create_thread_count</th>\n",
       "      <th>create_comment_count</th>\n",
       "      <th>delete_thread_count</th>\n",
       "      <th>delete_comment_count</th>\n",
       "      <th>click_info_count</th>\n",
       "      <th>click_courseware_count</th>\n",
       "      <th>click_about_count</th>\n",
       "      <th>click_forum_count</th>\n",
       "      <th>click_progress_count</th>\n",
       "      <th>close_courseware_count</th>\n",
       "      <th>age</th>\n",
       "      <th>gender</th>\n",
       "      <th>education</th>\n",
       "      <th>user_enroll_count</th>\n",
       "      <th>course_enroll_count</th>\n",
       "      <th>course_category</th>\n",
       "    </tr>\n",
       "  </thead>\n",
       "  <tbody>\n",
       "    <tr>\n",
       "      <th>count</th>\n",
       "      <td>2.256420e+05</td>\n",
       "      <td>2.256420e+05</td>\n",
       "      <td>2.256420e+05</td>\n",
       "      <td>2.256420e+05</td>\n",
       "      <td>2.256420e+05</td>\n",
       "      <td>2.256420e+05</td>\n",
       "      <td>2.256420e+05</td>\n",
       "      <td>2.256420e+05</td>\n",
       "      <td>2.256420e+05</td>\n",
       "      <td>2.256420e+05</td>\n",
       "      <td>2.256420e+05</td>\n",
       "      <td>2.256420e+05</td>\n",
       "      <td>2.256420e+05</td>\n",
       "      <td>2.256420e+05</td>\n",
       "      <td>2.256420e+05</td>\n",
       "      <td>2.256420e+05</td>\n",
       "      <td>2.256420e+05</td>\n",
       "      <td>2.256420e+05</td>\n",
       "      <td>2.256420e+05</td>\n",
       "      <td>2.256420e+05</td>\n",
       "      <td>2.256420e+05</td>\n",
       "      <td>2.256420e+05</td>\n",
       "      <td>2.256420e+05</td>\n",
       "      <td>225642.000000</td>\n",
       "      <td>225642.0</td>\n",
       "      <td>225642.000000</td>\n",
       "      <td>225642.000000</td>\n",
       "      <td>225642.000000</td>\n",
       "      <td>225642.0</td>\n",
       "    </tr>\n",
       "    <tr>\n",
       "      <th>mean</th>\n",
       "      <td>-2.116116e-17</td>\n",
       "      <td>-2.116116e-17</td>\n",
       "      <td>-2.544378e-17</td>\n",
       "      <td>2.670337e-17</td>\n",
       "      <td>3.023023e-17</td>\n",
       "      <td>-2.519186e-19</td>\n",
       "      <td>-1.158826e-17</td>\n",
       "      <td>3.841759e-18</td>\n",
       "      <td>4.484151e-17</td>\n",
       "      <td>5.844512e-17</td>\n",
       "      <td>1.990157e-17</td>\n",
       "      <td>-1.914581e-17</td>\n",
       "      <td>4.131465e-17</td>\n",
       "      <td>-3.148983e-18</td>\n",
       "      <td>8.565233e-18</td>\n",
       "      <td>1.007674e-17</td>\n",
       "      <td>-1.051760e-17</td>\n",
       "      <td>2.065733e-17</td>\n",
       "      <td>-1.914581e-17</td>\n",
       "      <td>1.158826e-17</td>\n",
       "      <td>-1.511512e-17</td>\n",
       "      <td>-3.577244e-17</td>\n",
       "      <td>2.216884e-17</td>\n",
       "      <td>8.266994</td>\n",
       "      <td>0.0</td>\n",
       "      <td>0.687394</td>\n",
       "      <td>6.086048</td>\n",
       "      <td>1481.760275</td>\n",
       "      <td>0.0</td>\n",
       "    </tr>\n",
       "    <tr>\n",
       "      <th>std</th>\n",
       "      <td>1.000002e+00</td>\n",
       "      <td>1.000002e+00</td>\n",
       "      <td>1.000002e+00</td>\n",
       "      <td>1.000002e+00</td>\n",
       "      <td>1.000002e+00</td>\n",
       "      <td>1.000002e+00</td>\n",
       "      <td>1.000002e+00</td>\n",
       "      <td>1.000002e+00</td>\n",
       "      <td>1.000002e+00</td>\n",
       "      <td>1.000002e+00</td>\n",
       "      <td>1.000002e+00</td>\n",
       "      <td>1.000002e+00</td>\n",
       "      <td>1.000002e+00</td>\n",
       "      <td>1.000002e+00</td>\n",
       "      <td>1.000002e+00</td>\n",
       "      <td>1.000002e+00</td>\n",
       "      <td>1.000002e+00</td>\n",
       "      <td>1.000002e+00</td>\n",
       "      <td>1.000002e+00</td>\n",
       "      <td>1.000002e+00</td>\n",
       "      <td>1.000002e+00</td>\n",
       "      <td>1.000002e+00</td>\n",
       "      <td>1.000002e+00</td>\n",
       "      <td>13.779072</td>\n",
       "      <td>0.0</td>\n",
       "      <td>1.362421</td>\n",
       "      <td>11.349781</td>\n",
       "      <td>1073.741787</td>\n",
       "      <td>0.0</td>\n",
       "    </tr>\n",
       "    <tr>\n",
       "      <th>min</th>\n",
       "      <td>-2.296236e-01</td>\n",
       "      <td>-2.296236e-01</td>\n",
       "      <td>-2.430431e-01</td>\n",
       "      <td>-2.967391e-01</td>\n",
       "      <td>-3.335350e-01</td>\n",
       "      <td>-5.929771e-02</td>\n",
       "      <td>-4.809683e-01</td>\n",
       "      <td>-4.241180e-02</td>\n",
       "      <td>-3.058438e-01</td>\n",
       "      <td>-2.021606e-01</td>\n",
       "      <td>-1.039690e-01</td>\n",
       "      <td>-3.375275e-01</td>\n",
       "      <td>-2.375323e-01</td>\n",
       "      <td>-1.049206e-01</td>\n",
       "      <td>-1.037937e-01</td>\n",
       "      <td>-2.010492e-02</td>\n",
       "      <td>-3.728827e-02</td>\n",
       "      <td>-4.904642e-01</td>\n",
       "      <td>-4.283334e-01</td>\n",
       "      <td>-4.275126e-01</td>\n",
       "      <td>-1.773503e-01</td>\n",
       "      <td>-2.847956e-01</td>\n",
       "      <td>-4.643094e-01</td>\n",
       "      <td>0.000000</td>\n",
       "      <td>0.0</td>\n",
       "      <td>0.000000</td>\n",
       "      <td>1.000000</td>\n",
       "      <td>244.000000</td>\n",
       "      <td>0.0</td>\n",
       "    </tr>\n",
       "    <tr>\n",
       "      <th>25%</th>\n",
       "      <td>-2.209644e-01</td>\n",
       "      <td>-2.209644e-01</td>\n",
       "      <td>-2.430431e-01</td>\n",
       "      <td>-2.967391e-01</td>\n",
       "      <td>-3.335350e-01</td>\n",
       "      <td>-5.929771e-02</td>\n",
       "      <td>-4.452670e-01</td>\n",
       "      <td>-4.241180e-02</td>\n",
       "      <td>-3.058438e-01</td>\n",
       "      <td>-2.021606e-01</td>\n",
       "      <td>-1.039690e-01</td>\n",
       "      <td>-3.375275e-01</td>\n",
       "      <td>-2.375323e-01</td>\n",
       "      <td>-1.049206e-01</td>\n",
       "      <td>-1.037937e-01</td>\n",
       "      <td>-2.010492e-02</td>\n",
       "      <td>-3.728827e-02</td>\n",
       "      <td>-4.904642e-01</td>\n",
       "      <td>-4.283334e-01</td>\n",
       "      <td>-4.275126e-01</td>\n",
       "      <td>-1.773503e-01</td>\n",
       "      <td>-2.847956e-01</td>\n",
       "      <td>-4.643094e-01</td>\n",
       "      <td>0.000000</td>\n",
       "      <td>0.0</td>\n",
       "      <td>0.000000</td>\n",
       "      <td>2.000000</td>\n",
       "      <td>657.000000</td>\n",
       "      <td>0.0</td>\n",
       "    </tr>\n",
       "    <tr>\n",
       "      <th>50%</th>\n",
       "      <td>-1.949867e-01</td>\n",
       "      <td>-1.949867e-01</td>\n",
       "      <td>-2.430431e-01</td>\n",
       "      <td>-2.693832e-01</td>\n",
       "      <td>-2.960125e-01</td>\n",
       "      <td>-5.929771e-02</td>\n",
       "      <td>-3.738646e-01</td>\n",
       "      <td>-4.241180e-02</td>\n",
       "      <td>-3.058438e-01</td>\n",
       "      <td>-2.021606e-01</td>\n",
       "      <td>-1.039690e-01</td>\n",
       "      <td>-3.375275e-01</td>\n",
       "      <td>-2.375323e-01</td>\n",
       "      <td>-1.049206e-01</td>\n",
       "      <td>-1.037937e-01</td>\n",
       "      <td>-2.010492e-02</td>\n",
       "      <td>-3.728827e-02</td>\n",
       "      <td>-2.783595e-01</td>\n",
       "      <td>-3.943348e-01</td>\n",
       "      <td>-1.598771e-01</td>\n",
       "      <td>-1.773503e-01</td>\n",
       "      <td>-2.847956e-01</td>\n",
       "      <td>-3.918210e-01</td>\n",
       "      <td>0.000000</td>\n",
       "      <td>0.0</td>\n",
       "      <td>0.000000</td>\n",
       "      <td>3.000000</td>\n",
       "      <td>1063.000000</td>\n",
       "      <td>0.0</td>\n",
       "    </tr>\n",
       "    <tr>\n",
       "      <th>75%</th>\n",
       "      <td>-6.015041e-02</td>\n",
       "      <td>-6.015041e-02</td>\n",
       "      <td>-1.365515e-01</td>\n",
       "      <td>-9.156990e-02</td>\n",
       "      <td>-9.589218e-02</td>\n",
       "      <td>-5.294473e-02</td>\n",
       "      <td>-5.255347e-02</td>\n",
       "      <td>-1.915470e-02</td>\n",
       "      <td>-1.926341e-01</td>\n",
       "      <td>-2.021606e-01</td>\n",
       "      <td>-1.039690e-01</td>\n",
       "      <td>-1.746592e-01</td>\n",
       "      <td>-1.302240e-01</td>\n",
       "      <td>-1.049206e-01</td>\n",
       "      <td>-1.037937e-01</td>\n",
       "      <td>-2.010492e-02</td>\n",
       "      <td>-3.728827e-02</td>\n",
       "      <td>-6.625486e-02</td>\n",
       "      <td>-1.223463e-01</td>\n",
       "      <td>-2.605936e-02</td>\n",
       "      <td>-1.773503e-01</td>\n",
       "      <td>-2.847956e-01</td>\n",
       "      <td>-6.562293e-02</td>\n",
       "      <td>22.000000</td>\n",
       "      <td>0.0</td>\n",
       "      <td>1.000000</td>\n",
       "      <td>6.000000</td>\n",
       "      <td>2018.000000</td>\n",
       "      <td>0.0</td>\n",
       "    </tr>\n",
       "    <tr>\n",
       "      <th>max</th>\n",
       "      <td>1.593362e+02</td>\n",
       "      <td>1.593362e+02</td>\n",
       "      <td>7.336394e+01</td>\n",
       "      <td>1.196725e+02</td>\n",
       "      <td>1.084568e+02</td>\n",
       "      <td>1.078588e+02</td>\n",
       "      <td>3.272118e+01</td>\n",
       "      <td>3.748271e+02</td>\n",
       "      <td>3.077021e+01</td>\n",
       "      <td>7.844860e+01</td>\n",
       "      <td>5.580105e+01</td>\n",
       "      <td>1.839233e+01</td>\n",
       "      <td>6.393281e+01</td>\n",
       "      <td>1.105476e+02</td>\n",
       "      <td>1.649131e+02</td>\n",
       "      <td>2.717526e+02</td>\n",
       "      <td>2.701004e+02</td>\n",
       "      <td>6.123199e+01</td>\n",
       "      <td>4.144089e+01</td>\n",
       "      <td>1.616258e+02</td>\n",
       "      <td>8.903633e+01</td>\n",
       "      <td>4.470409e+01</td>\n",
       "      <td>2.950967e+01</td>\n",
       "      <td>70.000000</td>\n",
       "      <td>0.0</td>\n",
       "      <td>7.000000</td>\n",
       "      <td>200.000000</td>\n",
       "      <td>4253.000000</td>\n",
       "      <td>0.0</td>\n",
       "    </tr>\n",
       "  </tbody>\n",
       "</table>\n",
       "</div>"
      ],
      "text/plain": [
       "       action_count  session_count  seek_video_count  play_video_count  \\\n",
       "count  2.256420e+05   2.256420e+05      2.256420e+05      2.256420e+05   \n",
       "mean  -2.116116e-17  -2.116116e-17     -2.544378e-17      2.670337e-17   \n",
       "std    1.000002e+00   1.000002e+00      1.000002e+00      1.000002e+00   \n",
       "min   -2.296236e-01  -2.296236e-01     -2.430431e-01     -2.967391e-01   \n",
       "25%   -2.209644e-01  -2.209644e-01     -2.430431e-01     -2.967391e-01   \n",
       "50%   -1.949867e-01  -1.949867e-01     -2.430431e-01     -2.693832e-01   \n",
       "75%   -6.015041e-02  -6.015041e-02     -1.365515e-01     -9.156990e-02   \n",
       "max    1.593362e+02   1.593362e+02      7.336394e+01      1.196725e+02   \n",
       "\n",
       "       pause_video_count  stop_video_count  load_video_count  \\\n",
       "count       2.256420e+05      2.256420e+05      2.256420e+05   \n",
       "mean        3.023023e-17     -2.519186e-19     -1.158826e-17   \n",
       "std         1.000002e+00      1.000002e+00      1.000002e+00   \n",
       "min        -3.335350e-01     -5.929771e-02     -4.809683e-01   \n",
       "25%        -3.335350e-01     -5.929771e-02     -4.452670e-01   \n",
       "50%        -2.960125e-01     -5.929771e-02     -3.738646e-01   \n",
       "75%        -9.589218e-02     -5.294473e-02     -5.255347e-02   \n",
       "max         1.084568e+02      1.078588e+02      3.272118e+01   \n",
       "\n",
       "       problem_get_count  problem_check_count  problem_save_count  \\\n",
       "count       2.256420e+05         2.256420e+05        2.256420e+05   \n",
       "mean        3.841759e-18         4.484151e-17        5.844512e-17   \n",
       "std         1.000002e+00         1.000002e+00        1.000002e+00   \n",
       "min        -4.241180e-02        -3.058438e-01       -2.021606e-01   \n",
       "25%        -4.241180e-02        -3.058438e-01       -2.021606e-01   \n",
       "50%        -4.241180e-02        -3.058438e-01       -2.021606e-01   \n",
       "75%        -1.915470e-02        -1.926341e-01       -2.021606e-01   \n",
       "max         3.748271e+02         3.077021e+01        7.844860e+01   \n",
       "\n",
       "       reset_problem_count  problem_check_correct_count  \\\n",
       "count         2.256420e+05                 2.256420e+05   \n",
       "mean          1.990157e-17                -1.914581e-17   \n",
       "std           1.000002e+00                 1.000002e+00   \n",
       "min          -1.039690e-01                -3.375275e-01   \n",
       "25%          -1.039690e-01                -3.375275e-01   \n",
       "50%          -1.039690e-01                -3.375275e-01   \n",
       "75%          -1.039690e-01                -1.746592e-01   \n",
       "max           5.580105e+01                 1.839233e+01   \n",
       "\n",
       "       problem_check_incorrect_count  create_thread_count  \\\n",
       "count                   2.256420e+05         2.256420e+05   \n",
       "mean                    4.131465e-17        -3.148983e-18   \n",
       "std                     1.000002e+00         1.000002e+00   \n",
       "min                    -2.375323e-01        -1.049206e-01   \n",
       "25%                    -2.375323e-01        -1.049206e-01   \n",
       "50%                    -2.375323e-01        -1.049206e-01   \n",
       "75%                    -1.302240e-01        -1.049206e-01   \n",
       "max                     6.393281e+01         1.105476e+02   \n",
       "\n",
       "       create_comment_count  delete_thread_count  delete_comment_count  \\\n",
       "count          2.256420e+05         2.256420e+05          2.256420e+05   \n",
       "mean           8.565233e-18         1.007674e-17         -1.051760e-17   \n",
       "std            1.000002e+00         1.000002e+00          1.000002e+00   \n",
       "min           -1.037937e-01        -2.010492e-02         -3.728827e-02   \n",
       "25%           -1.037937e-01        -2.010492e-02         -3.728827e-02   \n",
       "50%           -1.037937e-01        -2.010492e-02         -3.728827e-02   \n",
       "75%           -1.037937e-01        -2.010492e-02         -3.728827e-02   \n",
       "max            1.649131e+02         2.717526e+02          2.701004e+02   \n",
       "\n",
       "       click_info_count  click_courseware_count  click_about_count  \\\n",
       "count      2.256420e+05            2.256420e+05       2.256420e+05   \n",
       "mean       2.065733e-17           -1.914581e-17       1.158826e-17   \n",
       "std        1.000002e+00            1.000002e+00       1.000002e+00   \n",
       "min       -4.904642e-01           -4.283334e-01      -4.275126e-01   \n",
       "25%       -4.904642e-01           -4.283334e-01      -4.275126e-01   \n",
       "50%       -2.783595e-01           -3.943348e-01      -1.598771e-01   \n",
       "75%       -6.625486e-02           -1.223463e-01      -2.605936e-02   \n",
       "max        6.123199e+01            4.144089e+01       1.616258e+02   \n",
       "\n",
       "       click_forum_count  click_progress_count  close_courseware_count  \\\n",
       "count       2.256420e+05          2.256420e+05            2.256420e+05   \n",
       "mean       -1.511512e-17         -3.577244e-17            2.216884e-17   \n",
       "std         1.000002e+00          1.000002e+00            1.000002e+00   \n",
       "min        -1.773503e-01         -2.847956e-01           -4.643094e-01   \n",
       "25%        -1.773503e-01         -2.847956e-01           -4.643094e-01   \n",
       "50%        -1.773503e-01         -2.847956e-01           -3.918210e-01   \n",
       "75%        -1.773503e-01         -2.847956e-01           -6.562293e-02   \n",
       "max         8.903633e+01          4.470409e+01            2.950967e+01   \n",
       "\n",
       "                 age    gender      education  user_enroll_count  \\\n",
       "count  225642.000000  225642.0  225642.000000      225642.000000   \n",
       "mean        8.266994       0.0       0.687394           6.086048   \n",
       "std        13.779072       0.0       1.362421          11.349781   \n",
       "min         0.000000       0.0       0.000000           1.000000   \n",
       "25%         0.000000       0.0       0.000000           2.000000   \n",
       "50%         0.000000       0.0       0.000000           3.000000   \n",
       "75%        22.000000       0.0       1.000000           6.000000   \n",
       "max        70.000000       0.0       7.000000         200.000000   \n",
       "\n",
       "       course_enroll_count  course_category  \n",
       "count        225642.000000         225642.0  \n",
       "mean           1481.760275              0.0  \n",
       "std            1073.741787              0.0  \n",
       "min             244.000000              0.0  \n",
       "25%             657.000000              0.0  \n",
       "50%            1063.000000              0.0  \n",
       "75%            2018.000000              0.0  \n",
       "max            4253.000000              0.0  "
      ]
     },
     "execution_count": 5,
     "metadata": {},
     "output_type": "execute_result"
    }
   ],
   "source": [
    "# sample distribution print in markdown table format\n",
    "X.describe()"
   ]
  },
  {
   "cell_type": "code",
   "execution_count": 6,
   "metadata": {},
   "outputs": [
    {
     "data": {
      "text/plain": [
       "(225642, 29)"
      ]
     },
     "execution_count": 6,
     "metadata": {},
     "output_type": "execute_result"
    }
   ],
   "source": [
    "X.shape"
   ]
  },
  {
   "cell_type": "markdown",
   "metadata": {},
   "source": [
    "## Evaluate Traditional ML Algorithms\n",
    "- create a baseline model from a bunch of traditional ML algorithms\n",
    "    - separate out a validation dataset\n",
    "    - set-up test harness to use 10-fold cross-validation\n",
    "    - build models to classify samples into various URL types\n",
    "    - select the best model as our baseline model"
   ]
  },
  {
   "cell_type": "markdown",
   "metadata": {},
   "source": [
    "### Create a Validation Dataset\n",
    "- will be used to test our model to see how good it is!\n",
    "- use 80/20 split\n",
    "- 80% of samples used for training and 20% held back for validation"
   ]
  },
  {
   "cell_type": "code",
   "execution_count": 7,
   "metadata": {},
   "outputs": [],
   "source": [
    "# Split-out validation dataset\n",
    "def splitDataset(X, Y):\n",
    "    validation_size = 0.20\n",
    "    random_seed = 100\n",
    "    X_train, X_validation, Y_train, Y_validation = model_selection.train_test_split(X, Y, \n",
    "                                                                                    test_size=validation_size, \n",
    "                                                                                    random_state=random_seed)\n",
    "    return X_train, X_validation, Y_train, Y_validation\n",
    "    "
   ]
  },
  {
   "cell_type": "code",
   "execution_count": 8,
   "metadata": {},
   "outputs": [],
   "source": [
    " X_train, X_validation, Y_train, Y_validation = splitDataset(X, y)"
   ]
  },
  {
   "cell_type": "markdown",
   "metadata": {},
   "source": [
    "## Build & Evaluate Models"
   ]
  },
  {
   "cell_type": "code",
   "execution_count": 9,
   "metadata": {},
   "outputs": [],
   "source": [
    "def runExperiments(X_train, Y_train):\n",
    "    random_seed = 100\n",
    "    scoring = 'roc_auc' #'accuracy'\n",
    "    models = []\n",
    "    models.append(('LR', LogisticRegression(solver='liblinear', multi_class='auto')))\n",
    "    models.append(('LDA', LinearDiscriminantAnalysis()))\n",
    "    models.append(('KNN', KNeighborsClassifier()))\n",
    "    models.append(('CART', DecisionTreeClassifier()))\n",
    "    models.append(('NB', GaussianNB()))\n",
    "    models.append(('SVM', SVC(gamma='auto')))\n",
    "    models.append(('AB', AdaBoostClassifier(n_estimators=100)))\n",
    "    models.append(('DT', DecisionTreeClassifier()))\n",
    "    models.append(('RF', RandomForestClassifier(n_estimators=10)))\n",
    "    models.append(('XGB', XGBClassifier()))\n",
    "\n",
    "    # evaluate each model in turn using 10-fold cross-validation\n",
    "    results = []\n",
    "    classifiers = []\n",
    "    accuracies = []\n",
    "    for classifier, model in models:\n",
    "        kfold = model_selection.KFold(n_splits=10, random_state=random_seed, shuffle=True)\n",
    "        cv_results = model_selection.cross_val_score(model, X_train, Y_train, cv=kfold, scoring=scoring)\n",
    "        accuracies.append((cv_results.mean(), classifier))\n",
    "        results.append(cv_results)\n",
    "        classifiers.append(classifier)\n",
    "        print(f'{classifier} {cv_results.mean():.4f} ({cv_results.std():.4f})')\n",
    "    return results, accuracies, classifiers"
   ]
  },
  {
   "cell_type": "code",
   "execution_count": null,
   "metadata": {},
   "outputs": [
    {
     "name": "stdout",
     "output_type": "stream",
     "text": [
      "LR 0.8122 (0.0038)\n",
      "LDA 0.8130 (0.0042)\n",
      "KNN 0.7755 (0.0035)\n",
      "CART 0.6777 (0.0035)\n",
      "NB 0.8110 (0.0042)\n"
     ]
    }
   ],
   "source": [
    "results, accuracies, classifiers = runExperiments(X_train, Y_train)"
   ]
  },
  {
   "cell_type": "markdown",
   "metadata": {},
   "source": [
    "## Compare and Select Best Model using Boxplot\n"
   ]
  },
  {
   "cell_type": "code",
   "execution_count": null,
   "metadata": {},
   "outputs": [],
   "source": [
    "def compareModels(accuracies, results, classifiers):\n",
    "    # sort the mean accuracy results in descending order and print\n",
    "    accuracies.sort(reverse=True)\n",
    "    for acc, cls in accuracies:\n",
    "        print(\"{} {:.2f}\".format(cls, acc))\n",
    "    # Compare Algorithms using box-plot\n",
    "    fig = plt.figure(figsize=(8, 6))\n",
    "    fig.suptitle('Algorithm Comparison using Boxplot')\n",
    "    ax = fig.add_subplot(111)\n",
    "    plt.boxplot(results)\n",
    "    ax.set_xticklabels(classifiers)\n",
    "    plt.show()"
   ]
  },
  {
   "cell_type": "code",
   "execution_count": null,
   "metadata": {},
   "outputs": [],
   "source": [
    "compareModels(accuracies, results, classifiers)"
   ]
  },
  {
   "cell_type": "markdown",
   "metadata": {},
   "source": [
    "# Make Predictions using Best Classifier - \n",
    "- RF provides superior accuracy result over all the classifiers\n",
    "- now check the accuracy of the best model using validation set "
   ]
  },
  {
   "cell_type": "code",
   "execution_count": 19,
   "metadata": {},
   "outputs": [],
   "source": [
    "def testBestModel(model, X_validation, Y_validation):\n",
    "    # make predictions on validation dataset\n",
    "    Y_predictions = rf.predict(X_validation)\n",
    "    print(\"Accuracy = {:.2f}\".format(accuracy_score(Y_validation, Y_predictions)))\n",
    "    print('Confusion Matrix:')\n",
    "    print(confusion_matrix(Y_validation, Y_predictions))\n",
    "    print('Classification Report:')\n",
    "    print(classification_report(Y_validation, Y_predictions))\n",
    "    return Y_predictions"
   ]
  },
  {
   "cell_type": "code",
   "execution_count": 20,
   "metadata": {},
   "outputs": [
    {
     "name": "stdout",
     "output_type": "stream",
     "text": [
      "Accuracy = 0.97\n",
      "Confusion Matrix:\n",
      "[[1569    1    0   24    0]\n",
      " [   2 1515    0   22    2]\n",
      " [   1   10 1339   14    3]\n",
      " [  21   32   17 1444    9]\n",
      " [  15    2    1   24 1273]]\n",
      "Classification Report:\n",
      "              precision    recall  f1-score   support\n",
      "\n",
      "  Defacement       0.98      0.98      0.98      1594\n",
      "      benign       0.97      0.98      0.98      1541\n",
      "     malware       0.99      0.98      0.98      1367\n",
      "    phishing       0.95      0.95      0.95      1523\n",
      "        spam       0.99      0.97      0.98      1315\n",
      "\n",
      "    accuracy                           0.97      7340\n",
      "   macro avg       0.97      0.97      0.97      7340\n",
      "weighted avg       0.97      0.97      0.97      7340\n",
      "\n"
     ]
    }
   ],
   "source": [
    "# train the best model and find the validation accuracy\n",
    "rf = RandomForestClassifier(n_estimators=10)\n",
    "rf.fit(X_train, Y_train)\n",
    "Y_predictions = testBestModel(rf, X_validation, Y_validation)"
   ]
  },
  {
   "cell_type": "markdown",
   "metadata": {},
   "source": [
    "### Confusion Matrix Visualization"
   ]
  },
  {
   "cell_type": "code",
   "execution_count": 21,
   "metadata": {},
   "outputs": [],
   "source": [
    "# Source: https://scikit-learn.org/stable/auto_examples/model_selection/plot_confusion_matrix.html\n",
    "def plot_confusion_matrix(y_true, y_pred, classes,\n",
    "                          normalize=False,\n",
    "                          title=None,\n",
    "                          cmap=plt.cm.Blues):\n",
    "    \"\"\"\n",
    "    This function prints and plots the confusion matrix.\n",
    "    Normalization can be applied by setting `normalize=True`.\n",
    "    \"\"\"\n",
    "    if not title:\n",
    "        if normalize:\n",
    "            title = 'Normalized confusion matrix'\n",
    "        else:\n",
    "            title = 'Confusion matrix, without normalization'\n",
    "\n",
    "    # Compute confusion matrix\n",
    "    cm = confusion_matrix(y_true, y_pred)\n",
    "    # Only use the labels that appear in the data\n",
    "    #classes = classes[unique_labels(y_true, y_pred)]\n",
    "\n",
    "    if normalize:\n",
    "        cm = cm.astype('float') / cm.sum(axis=1)[:, np.newaxis]\n",
    "        #print(\"Normalized confusion matrix\")\n",
    "    else:\n",
    "        #print('Confusion matrix, without normalization')\n",
    "        pass\n",
    "\n",
    "    #print(cm)\n",
    "\n",
    "    fig, ax = plt.subplots()\n",
    "    im = ax.imshow(cm, interpolation='nearest', cmap=cmap)\n",
    "    ax.figure.colorbar(im, ax=ax)\n",
    "    # We want to show all ticks...\n",
    "    ax.set(xticks=np.arange(cm.shape[1]),\n",
    "           yticks=np.arange(cm.shape[0]),\n",
    "           # ... and label them with the respective list entries\n",
    "           xticklabels=classes, yticklabels=classes,\n",
    "           title=title,\n",
    "           ylabel='True label',\n",
    "           xlabel='Predicted label')\n",
    "\n",
    "    # Rotate the tick labels and set their alignment.\n",
    "    plt.setp(ax.get_xticklabels(), rotation=45, ha=\"right\",\n",
    "             rotation_mode=\"anchor\")\n",
    "\n",
    "    # Loop over data dimensions and create text annotations.\n",
    "    fmt = '.2f' if normalize else 'd'\n",
    "    thresh = cm.max() / 2.\n",
    "    for i in range(cm.shape[0]):\n",
    "        for j in range(cm.shape[1]):\n",
    "            ax.text(j, i, format(cm[i, j], fmt),\n",
    "                    ha=\"center\", va=\"center\",\n",
    "                    color=\"white\" if cm[i, j] > thresh else \"black\")\n",
    "    fig.tight_layout()\n",
    "    return ax\n"
   ]
  },
  {
   "cell_type": "code",
   "execution_count": 22,
   "metadata": {},
   "outputs": [
    {
     "data": {
      "text/plain": [
       "<matplotlib.axes._subplots.AxesSubplot at 0x1a25ed12b0>"
      ]
     },
     "execution_count": 22,
     "metadata": {},
     "output_type": "execute_result"
    },
    {
     "data": {
      "image/png": "[encoded data removed]",
      "text/plain": [
       "<Figure size 432x288 with 2 Axes>"
      ]
     },
     "metadata": {
      "needs_background": "light"
     },
     "output_type": "display_data"
    }
   ],
   "source": [
    "classes = lblTypes\n",
    "np.set_printoptions(precision=2)\n",
    "# plot non-normalized confusion matrix\n",
    "plot_confusion_matrix(Y_validation, Y_predictions, classes=classes, \n",
    "                       title='Confusion Matrix')"
   ]
  },
  {
   "cell_type": "markdown",
   "metadata": {},
   "source": [
    "## Run Experiments on KDD-Cup Dataset\n",
    "- with our features"
   ]
  },
  {
   "cell_type": "code",
   "execution_count": 28,
   "metadata": {},
   "outputs": [
    {
     "name": "stdout",
     "output_type": "stream",
     "text": [
      "LR: 0.927104 (0.002662)\n"
     ]
    },
    {
     "name": "stderr",
     "output_type": "stream",
     "text": [
      "/Users/rbasnet/miniconda3/lib/python3.7/site-packages/sklearn/discriminant_analysis.py:388: UserWarning: Variables are collinear.\n",
      "  warnings.warn(\"Variables are collinear.\")\n",
      "/Users/rbasnet/miniconda3/lib/python3.7/site-packages/sklearn/discriminant_analysis.py:388: UserWarning: Variables are collinear.\n",
      "  warnings.warn(\"Variables are collinear.\")\n",
      "/Users/rbasnet/miniconda3/lib/python3.7/site-packages/sklearn/discriminant_analysis.py:388: UserWarning: Variables are collinear.\n",
      "  warnings.warn(\"Variables are collinear.\")\n",
      "/Users/rbasnet/miniconda3/lib/python3.7/site-packages/sklearn/discriminant_analysis.py:388: UserWarning: Variables are collinear.\n",
      "  warnings.warn(\"Variables are collinear.\")\n",
      "/Users/rbasnet/miniconda3/lib/python3.7/site-packages/sklearn/discriminant_analysis.py:388: UserWarning: Variables are collinear.\n",
      "  warnings.warn(\"Variables are collinear.\")\n",
      "/Users/rbasnet/miniconda3/lib/python3.7/site-packages/sklearn/discriminant_analysis.py:388: UserWarning: Variables are collinear.\n",
      "  warnings.warn(\"Variables are collinear.\")\n",
      "/Users/rbasnet/miniconda3/lib/python3.7/site-packages/sklearn/discriminant_analysis.py:388: UserWarning: Variables are collinear.\n",
      "  warnings.warn(\"Variables are collinear.\")\n",
      "/Users/rbasnet/miniconda3/lib/python3.7/site-packages/sklearn/discriminant_analysis.py:388: UserWarning: Variables are collinear.\n",
      "  warnings.warn(\"Variables are collinear.\")\n",
      "/Users/rbasnet/miniconda3/lib/python3.7/site-packages/sklearn/discriminant_analysis.py:388: UserWarning: Variables are collinear.\n",
      "  warnings.warn(\"Variables are collinear.\")\n",
      "/Users/rbasnet/miniconda3/lib/python3.7/site-packages/sklearn/discriminant_analysis.py:388: UserWarning: Variables are collinear.\n",
      "  warnings.warn(\"Variables are collinear.\")\n"
     ]
    },
    {
     "name": "stdout",
     "output_type": "stream",
     "text": [
      "LDA: 0.910686 (0.002967)\n",
      "KNN: 0.971182 (0.003257)\n",
      "CART: 0.985182 (0.003603)\n",
      "NB: 0.660899 (0.006267)\n",
      "SVM: 0.963450 (0.002770)\n",
      "AB: 0.969343 (0.002975)\n",
      "DT: 0.984978 (0.003572)\n",
      "RF: 0.989883 (0.001492)\n"
     ]
    }
   ],
   "source": [
    "def KDDExperiments():\n",
    "    path = 'data/kddcup15'\n",
    "    db_path = os.path.join(path, 'kdd_all_normalized_features.csv')\n",
    "    df = pd.read_csv(db_path)\n",
    "    # Features that could lead to overfitting the models\n",
    "    bad_features = ['enrollment_id']\n",
    "    df.drop(labels=bad_features, axis='columns', inplace=True)\n",
    "    dep_var = 'truth'\n",
    "    X = df.loc[:, df.columns != dep_var]\n",
    "    y = df[dep_var]\n",
    "    "
   ]
  },
  {
   "cell_type": "markdown",
   "metadata": {},
   "source": [
    "## Compare and Select Best Model"
   ]
  },
  {
   "cell_type": "code",
   "execution_count": 30,
   "metadata": {},
   "outputs": [
    {
     "name": "stdout",
     "output_type": "stream",
     "text": [
      "RF 0.99\n",
      "CART 0.99\n",
      "DT 0.98\n",
      "KNN 0.97\n",
      "AB 0.97\n",
      "SVM 0.96\n",
      "LR 0.93\n",
      "LDA 0.91\n",
      "NB 0.66\n"
     ]
    },
    {
     "data": {
      "image/png": "[encoded data removed]",
      "text/plain": [
       "<Figure size 576x432 with 1 Axes>"
      ]
     },
     "metadata": {
      "needs_background": "light"
     },
     "output_type": "display_data"
    }
   ],
   "source": [
    "compareModels(accuracies, results, classifiers)"
   ]
  },
  {
   "cell_type": "markdown",
   "metadata": {},
   "source": [
    "## Make Predictions using Best Classifier: Random Forest (RF)"
   ]
  },
  {
   "cell_type": "code",
   "execution_count": 31,
   "metadata": {},
   "outputs": [
    {
     "name": "stdout",
     "output_type": "stream",
     "text": [
      "Accuracy = 0.99\n",
      "Confusion Matrix:\n",
      "[[1506   35]\n",
      " [  40 5759]]\n",
      "Classification Report:\n",
      "              precision    recall  f1-score   support\n",
      "\n",
      "      benign       0.97      0.98      0.98      1541\n",
      "   malicious       0.99      0.99      0.99      5799\n",
      "\n",
      "    accuracy                           0.99      7340\n",
      "   macro avg       0.98      0.99      0.98      7340\n",
      "weighted avg       0.99      0.99      0.99      7340\n",
      "\n"
     ]
    }
   ],
   "source": [
    "# train the best model and find the validation accuracy\n",
    "rf = RandomForestClassifier(n_estimators=10)\n",
    "rf.fit(X_train, Y_train)\n",
    "Y_predictions = testBestModel(rf, X_validation, Y_validation)"
   ]
  },
  {
   "cell_type": "markdown",
   "metadata": {},
   "source": [
    "### Confusion Matrix Viz"
   ]
  },
  {
   "cell_type": "code",
   "execution_count": 32,
   "metadata": {},
   "outputs": [
    {
     "data": {
      "text/plain": [
       "<matplotlib.axes._subplots.AxesSubplot at 0x1a296f5e48>"
      ]
     },
     "execution_count": 32,
     "metadata": {},
     "output_type": "execute_result"
    },
    {
     "data": {
      "image/png": "[encoded data removed]",
      "text/plain": [
       "<Figure size 432x288 with 2 Axes>"
      ]
     },
     "metadata": {
      "needs_background": "light"
     },
     "output_type": "display_data"
    }
   ],
   "source": [
    "classes = ['benign', 'malicious']\n",
    "np.set_printoptions(precision=2)\n",
    "# plot non-normalized confusion matrix\n",
    "plot_confusion_matrix(Y_validation, Y_predictions, classes=classes, \n",
    "                       title='Confusion Matrix')"
   ]
  },
  {
   "cell_type": "markdown",
   "metadata": {},
   "source": [
    "## Run Experiments on KDD-Cup dataset generated by Stanford group"
   ]
  },
  {
   "cell_type": "code",
   "execution_count": null,
   "metadata": {},
   "outputs": [],
   "source": []
  }
 ],
 "metadata": {
  "kernelspec": {
   "display_name": "Python 3",
   "language": "python",
   "name": "python3"
  },
  "language_info": {
   "codemirror_mode": {
    "name": "ipython",
    "version": 3
   },
   "file_extension": ".py",
   "mimetype": "text/x-python",
   "name": "python",
   "nbconvert_exporter": "python",
   "pygments_lexer": "ipython3",
   "version": "3.7.9"
  }
 },
 "nbformat": 4,
 "nbformat_minor": 2
}
