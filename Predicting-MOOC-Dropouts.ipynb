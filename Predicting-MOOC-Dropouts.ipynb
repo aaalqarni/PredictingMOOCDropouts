{
 "cells": [
  {
   "cell_type": "markdown",
   "metadata": {},
   "source": [
    "# Data\n",
    "\n",
    "## Download MOOC Data\n",
    "- download data from server: http://moocdata.cn/data/user-activity\n",
    "- Note: This may take a while!!\n",
    "- Bash script can be found here [data_download.sh](data_download.sh)"
   ]
  },
  {
   "cell_type": "code",
   "execution_count": 3,
   "metadata": {},
   "outputs": [
    {
     "name": "stdout",
     "output_type": "stream",
     "text": [
      "Downloading data from server\n",
      "data/prediction_data.tar.gz exists.\n",
      "data/user_info.csv exists.\n",
      "data/course_info.csv exists\n",
      "All done...\n"
     ]
    }
   ],
   "source": [
    "%%bash\n",
    "\n",
    "echo \"Downloading data from server\"\n",
    "file=\"data/prediction_data.tar.gz\"\n",
    "if [[ -f \"$file\" ]]; then\n",
    "    echo \"$file exists.\"\n",
    "else\n",
    "    curl -s -o $file http://lfs.aminer.cn/misc/moocdata/data/prediction_data.tar.gz\n",
    "    echo \"Extracting files from $file...\"\n",
    "    tar -C data -xzvf data/prediction_data.tar.gz\n",
    "    echo \"Done extracting files.\"\n",
    "fi\n",
    "\n",
    "file=\"data/user_info.csv\"\n",
    "if [[ -f \"$file\" ]]; then\n",
    "    echo \"$file exists.\"\n",
    "else\n",
    "    echo \"Downloading $file...\"\n",
    "    curl -s -o $file http://lfs.aminer.cn/misc/moocdata/data/user_info.csv\n",
    "fi\n",
    "\n",
    "file=\"data/course_info.csv\"\n",
    "if [[ -f \"$file\" ]]; then\n",
    "    echo \"$file exists\"\n",
    "else\n",
    "    echo \"Downloading $file...\"\n",
    "    curl -s -o $file http://lfs.aminer.cn/misc/moocdata/data/course_info.csv\n",
    "fi\n",
    "\n",
    "echo \"All done...\""
   ]
  },
  {
   "cell_type": "markdown",
   "metadata": {},
   "source": [
    "## Feature Extraction\n",
    "- preprocessing step: https://github.com/wzfhaha/dropout_prediction/blob/master/feat_extract.py"
   ]
  },
  {
   "cell_type": "code",
   "execution_count": 5,
   "metadata": {},
   "outputs": [],
   "source": [
    "import os\n",
    "import pandas as pd"
   ]
  },
  {
   "cell_type": "code",
   "execution_count": 8,
   "metadata": {},
   "outputs": [
    {
     "data": {
      "text/plain": [
       "'1.1.1'"
      ]
     },
     "execution_count": 8,
     "metadata": {},
     "output_type": "execute_result"
    }
   ],
   "source": [
    "pd.__version__"
   ]
  },
  {
   "cell_type": "code",
   "execution_count": 7,
   "metadata": {},
   "outputs": [],
   "source": [
    "path = 'data'\n",
    "\n",
    "train = pd.read_csv(os.path.join(path, 'prediction_log/train_log.csv'))\n",
    "test = pd.read_csv(os.path.join(path, 'prediction_log/test_log.csv'))\n",
    "train_truth = pd.read_csv(os.path.join(path, 'prediction_log/train_truth.csv'), index_col='enroll_id')\n",
    "test_truth = pd.read_csv(os.path.join(path, 'prediction_log/test_truth.csv'), index_col='enroll_id')\n",
    "all_truth = pd.concat([train_truth, test_truth])\n",
    "all_log = pd.concat([train, test])\n",
    "\n",
    "train_enroll = list(set(list(train['enroll_id'])))\n",
    "test_enroll = list(set(list(test['enroll_id'])))\n",
    "\n",
    "video_action = ['seek_video','play_video','pause_video','stop_video','load_video']\n",
    "problem_action = ['problem_get','problem_check','problem_save','reset_problem','problem_check_correct', 'problem_check_incorrect']\n",
    "forum_action = ['create_thread','create_comment','delete_thread','delete_comment']\n",
    "click_action = ['click_info','click_courseware','click_about','click_forum','click_progress']\n",
    "close_action = ['close_courseware']\n",
    "\n",
    "all_num = all_log.groupby('enroll_id').count()[['action']]\n",
    "all_num.columns = ['all#count']\n",
    "session_enroll = all_log[['session_id']].drop_duplicates()\n",
    "session_num = all_log.groupby('enroll_id').count()\n",
    "all_num['session#count'] = session_num['session_id']\n",
    "for a in video_action + problem_action + forum_action + click_action + close_action:\n",
    "    action_ = (all_log['action'] == a).astype(int)\n",
    "    all_log[a+'#num'] = action_\n",
    "    action_num = all_log.groupby('enroll_id').sum()[[a+'#num']]\n",
    "    all_num = pd.merge(all_num, action_num, left_index=True, right_index=True)\n",
    "all_num = pd.merge(all_num, all_truth, left_index=True, right_index=True)\n",
    "enroll_info = all_log[['username','course_id','enroll_id']].drop_duplicates()\n",
    "enroll_info.index = enroll_info['enroll_id']\n",
    "\n",
    "del enroll_info['enroll_id']\n",
    "\n",
    "all_num = pd.merge(all_num, enroll_info, left_index=True, right_index=True)\n",
    "all_num.loc[test_enroll].to_csv(os.path.join(path, 'test_features.csv'))\n",
    "all_num.loc[train_enroll].to_csv(os.path.join(path, 'train_features.csv'))"
   ]
  },
  {
   "cell_type": "markdown",
   "metadata": {},
   "source": [
    "## Feature Preprocessing"
   ]
  },
  {
   "cell_type": "code",
   "execution_count": 1,
   "metadata": {},
   "outputs": [],
   "source": [
    "import os\n",
    "import pandas as pd\n",
    "import numpy as np\n",
    "import pickle as pkl\n",
    "import math\n",
    "from sklearn.preprocessing import StandardScaler"
   ]
  },
  {
   "cell_type": "code",
   "execution_count": 2,
   "metadata": {},
   "outputs": [],
   "source": [
    "def age_convert(year):\n",
    "    if year == None or math.isnan(year):\n",
    "        return 0\n",
    "    age = 2018 - int(year)\n",
    "    if age > 70 or age < 10:\n",
    "        age = 0\n",
    "    return age"
   ]
  },
  {
   "cell_type": "code",
   "execution_count": 3,
   "metadata": {},
   "outputs": [],
   "source": [
    "def gender_convert(gender):\n",
    "    if gender == 'm':\n",
    "        return 1\n",
    "    elif gender == 'f':\n",
    "        return 2\n",
    "    else:\n",
    "        return 0"
   ]
  },
  {
   "cell_type": "code",
   "execution_count": 4,
   "metadata": {},
   "outputs": [],
   "source": [
    "def edu_convert(edu):\n",
    "    edus = [\"Bachelor's\",\"High\", \"Master's\", \"Primary\", \"Middle\",\"Associate\",\"Doctorate\"]\n",
    "    #if x == None or or math.isnan(x):\n",
    "    #    return 0\n",
    "    if not isinstance(edu, str):\n",
    "        return 0\n",
    "    eduIndex = edus.index(edu)\n",
    "    return eduIndex+1"
   ]
  },
  {
   "cell_type": "code",
   "execution_count": 6,
   "metadata": {},
   "outputs": [],
   "source": [
    "def category_convert(cc, en_categorys):\n",
    "    if isinstance(cc, str):\n",
    "        for i, c in zip(range(len(en_categorys)), en_categorys):\n",
    "            if cc == c:\n",
    "                return i+1\n",
    "    else:\n",
    "        return 0"
   ]
  },
  {
   "cell_type": "code",
   "execution_count": 14,
   "metadata": {},
   "outputs": [
    {
     "ename": "TypeError",
     "evalue": "a bytes-like object is required, not 'str'",
     "output_type": "error",
     "traceback": [
      "\u001b[0;31m---------------------------------------------------------------------------\u001b[0m",
      "\u001b[0;31mTypeError\u001b[0m                                 Traceback (most recent call last)",
      "\u001b[0;32m<ipython-input-14-4016b07065db>\u001b[0m in \u001b[0;36m<module>\u001b[0;34m\u001b[0m\n\u001b[1;32m     33\u001b[0m \u001b[0;31m#extract user cluster\u001b[0m\u001b[0;34m\u001b[0m\u001b[0;34m\u001b[0m\u001b[0;34m\u001b[0m\u001b[0m\n\u001b[1;32m     34\u001b[0m \u001b[0mcluster_label\u001b[0m \u001b[0;34m=\u001b[0m \u001b[0mnp\u001b[0m\u001b[0;34m.\u001b[0m\u001b[0mload\u001b[0m\u001b[0;34m(\u001b[0m\u001b[0;34m'cluster/label_5_10time.npy'\u001b[0m\u001b[0;34m,\u001b[0m \u001b[0mallow_pickle\u001b[0m\u001b[0;34m=\u001b[0m\u001b[0;32mTrue\u001b[0m\u001b[0;34m)\u001b[0m\u001b[0;34m\u001b[0m\u001b[0;34m\u001b[0m\u001b[0m\n\u001b[0;32m---> 35\u001b[0;31m \u001b[0muser_cluster_id\u001b[0m \u001b[0;34m=\u001b[0m \u001b[0mpkl\u001b[0m\u001b[0;34m.\u001b[0m\u001b[0mload\u001b[0m\u001b[0;34m(\u001b[0m\u001b[0mopen\u001b[0m\u001b[0;34m(\u001b[0m\u001b[0;34m'cluster/user_dict'\u001b[0m\u001b[0;34m,\u001b[0m\u001b[0;34m'r'\u001b[0m\u001b[0;34m)\u001b[0m\u001b[0;34m)\u001b[0m\u001b[0;34m\u001b[0m\u001b[0;34m\u001b[0m\u001b[0m\n\u001b[0m\u001b[1;32m     36\u001b[0m \u001b[0;34m\u001b[0m\u001b[0m\n\u001b[1;32m     37\u001b[0m \u001b[0mall_feat\u001b[0m\u001b[0;34m[\u001b[0m\u001b[0;34m'cluster_label'\u001b[0m\u001b[0;34m]\u001b[0m \u001b[0;34m=\u001b[0m \u001b[0;34m[\u001b[0m\u001b[0mcluster_label\u001b[0m\u001b[0;34m[\u001b[0m\u001b[0muser_cluster_id\u001b[0m\u001b[0;34m[\u001b[0m\u001b[0mu\u001b[0m\u001b[0;34m]\u001b[0m\u001b[0;34m]\u001b[0m \u001b[0;32mfor\u001b[0m \u001b[0mu\u001b[0m \u001b[0;32min\u001b[0m \u001b[0mall_feat\u001b[0m\u001b[0;34m[\u001b[0m\u001b[0;34m'username'\u001b[0m\u001b[0;34m]\u001b[0m\u001b[0;34m]\u001b[0m\u001b[0;34m\u001b[0m\u001b[0;34m\u001b[0m\u001b[0m\n",
      "\u001b[0;31mTypeError\u001b[0m: a bytes-like object is required, not 'str'"
     ]
    }
   ],
   "source": [
    "path = 'data'\n",
    "\n",
    "train_feat= pd.read_csv(os.path.join(path, 'train_features.csv'), index_col=0)\n",
    "test_feat= pd.read_csv(os.path.join(path, 'test_features.csv'), index_col=0)\n",
    "all_feat = pd.concat([train_feat, test_feat])\n",
    "\n",
    "user_profile = pd.read_csv(os.path.join(path, 'user_info.csv'), index_col='user_id')\n",
    "\n",
    "# extract user age\n",
    "birth_year = user_profile['birth'].to_dict()\n",
    "\n",
    "all_feat['age'] = [age_convert(birth_year.get(int(u), None)) for u in all_feat['username']]\n",
    "\n",
    "# extract user gender\n",
    "user_gender = user_profile['gender'].to_dict()\n",
    "\n",
    "all_feat['gender'] = [gender_convert(user_gender.get(int(u),None)) for u in all_feat['username']]\n",
    "\n",
    "user_edu = user_profile['education'].to_dict()\n",
    "\n",
    "all_feat['education'] = [edu_convert(user_edu.get(int(u), None)) for u in all_feat['username']]\n",
    "\n",
    "user_enroll_num = all_feat.groupby('username').count()[['course_id']]\n",
    "course_enroll_num = all_feat.groupby('course_id').count()[['username']]\n",
    "\n",
    "user_enroll_num.columns = ['user_enroll_num']\n",
    "course_enroll_num.columns = ['course_enroll_num']\n",
    "\n",
    "all_feat = pd.merge(all_feat, user_enroll_num, left_on='username', right_index=True)\n",
    "all_feat = pd.merge(all_feat, course_enroll_num, left_on='course_id', right_index=True)\n",
    "\n",
    "\n",
    "#extract user cluster\n",
    "cluster_label = np.load('cluster/label_5_10time.npy', allow_pickle=True)\n",
    "user_cluster_id = pkl.load(open('cluster/user_dict','r'))\n",
    "\n",
    "all_feat['cluster_label'] = [cluster_label[user_cluster_id[u]] for u in all_feat['username']]\n",
    "\n",
    "\n",
    "#extract course category\n",
    "courseinfo = pd.read_csv(os.path.join(path, 'course_info.csv'), index_col='id')\n",
    "en_categorys = ['math','physics','electrical', 'computer','foreign language', \n",
    "                'business', 'economics','biology','medicine','literature','philosophy',\n",
    "                'history','social science', 'art','engineering','education','environment','chemistry']\n",
    "\n",
    "category_dict = courseinfo['category'].to_dict()\n",
    "\n",
    "all_feat['course_category'] = [category_convert(category_dict.get(str(x), None), en_categorys) for x in all_feat['course_id']]\n",
    "\n",
    "act_feats = [c for c in train_feat.columns if 'count' in c or 'time' in c or 'num' in c]\n",
    "\n",
    "pkl.dump(act_feats, open(os.path.join(path, 'act_feats.pkl'),'wb'))\n",
    "num_feats = act_feats + ['age','course_enroll_num','user_enroll_num']\n",
    "scaler= StandardScaler()\n",
    "newX = scaler.fit_transform(all_feat[num_feats])\n",
    "\n",
    "print(newX.shape)\n",
    "\n",
    "for i, n_f in enumerate(num_feats):\n",
    "    all_feat[n_f] = newX[:,i]   \n",
    "\n",
    "all_feat.loc[train_feat.index].to_csv(os.path.join(path, 'train_feat.csv'))\n",
    "all_feat.loc[test_feat.index].to_csv(os.path.join(path, 'test_feat.csv'))"
   ]
  },
  {
   "cell_type": "code",
   "execution_count": null,
   "metadata": {},
   "outputs": [],
   "source": []
  }
 ],
 "metadata": {
  "kernelspec": {
   "display_name": "Python 3",
   "language": "python",
   "name": "python3"
  },
  "language_info": {
   "codemirror_mode": {
    "name": "ipython",
    "version": 3
   },
   "file_extension": ".py",
   "mimetype": "text/x-python",
   "name": "python",
   "nbconvert_exporter": "python",
   "pygments_lexer": "ipython3",
   "version": "3.7.9"
  }
 },
 "nbformat": 4,
 "nbformat_minor": 4
}